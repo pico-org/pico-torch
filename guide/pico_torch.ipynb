{
  "cells": [
    {
      "cell_type": "markdown",
      "metadata": {
        "colab_type": "text",
        "id": "view-in-github"
      },
      "source": [
        "<a href=\"https://colab.research.google.com/github/pico-org/pico-torch/blob/main/pico_torch.ipynb\" target=\"_parent\"><img src=\"https://colab.research.google.com/assets/colab-badge.svg\" alt=\"Open In Colab\"/></a>"
      ]
    },
    {
      "cell_type": "markdown",
      "metadata": {
        "id": "dcDyfbpLGNDl"
      },
      "source": [
        "# pico-torch\n",
        "A educational Deep Learning Library written with jax!\n",
        "\n",
        "This Notebook contains a basic guide of the library!"
      ]
    },
    {
      "cell_type": "code",
      "execution_count": 2,
      "metadata": {
        "colab": {
          "base_uri": "https://localhost:8080/"
        },
        "id": "3hnDXwo-Eg2V",
        "outputId": "eb74ec47-77d2-4fd9-f229-14d1013c34de"
      },
      "outputs": [
        {
          "name": "stdout",
          "output_type": "stream",
          "text": [
            "fatal: destination path 'pico-torch' already exists and is not an empty directory.\n"
          ]
        }
      ],
      "source": [
        "# clone the repo from the github!\n",
        "!git clone https://github.com/pico-org/pico-torch"
      ]
    },
    {
      "cell_type": "code",
      "execution_count": 8,
      "metadata": {
        "id": "eK_jSYyTFIqp"
      },
      "outputs": [],
      "source": [
        "#setting the system path\n",
        "import sys\n",
        "sys.path.append(\"/home/smruti/Desktop/git repos/pico-torch/guide/pico-torch\")"
      ]
    },
    {
      "cell_type": "markdown",
      "metadata": {
        "id": "jKeMluBVHNz0"
      },
      "source": [
        "# Imports"
      ]
    },
    {
      "cell_type": "code",
      "execution_count": 9,
      "metadata": {
        "id": "6H55KUb3HNY1"
      },
      "outputs": [],
      "source": [
        "import pico_torch as pt\n",
        "import pico_torch.nn as nn"
      ]
    },
    {
      "cell_type": "markdown",
      "metadata": {
        "id": "gwwkc_H0HZr8"
      },
      "source": [
        "## for making Tensor"
      ]
    },
    {
      "cell_type": "code",
      "execution_count": 10,
      "metadata": {
        "id": "kb9oQ0cqHZaR"
      },
      "outputs": [],
      "source": [
        "A = pt.Tensor([1,2,3,4])\n",
        "B = pt.Tensor([2,3,4,5])"
      ]
    },
    {
      "cell_type": "markdown",
      "metadata": {
        "id": "PjYLhmpWH_az"
      },
      "source": [
        "## some basic Arithimatic operations"
      ]
    },
    {
      "cell_type": "code",
      "execution_count": 11,
      "metadata": {
        "colab": {
          "base_uri": "https://localhost:8080/"
        },
        "id": "CcU6AKtqF-hC",
        "outputId": "a1ae3e66-788f-40a3-bf04-5f7af56fd67c"
      },
      "outputs": [
        {
          "name": "stdout",
          "output_type": "stream",
          "text": [
            "A+B: Tensor(data=[3 5 7 9], requires_grad=False)\n",
            "A-B: Tensor(data=[-1 -1 -1 -1], requires_grad=False)\n",
            "A*B: Tensor(data=[ 2  6 12 20], requires_grad=False)\n",
            "A/B: Tensor(data=[0.5       0.6666667 0.75      0.8      ], requires_grad=False)\n",
            "A==B: Tensor(data=[False False False False], requires_grad=False)\n",
            "2+A: Tensor(data=[3 4 5 6], requires_grad=False)\n",
            "2-A: Tensor(data=[ 1  0 -1 -2], requires_grad=False)\n",
            "2*A: Tensor(data=[2 4 6 8], requires_grad=False)\n",
            "2/A: Tensor(data=[2.        1.        0.6666667 0.5      ], requires_grad=False)\n",
            "A**2: Tensor(data=[ 1  4  9 16], requires_grad=False)\n"
          ]
        }
      ],
      "source": [
        "print(f\"A+B: {A+B}\")\n",
        "print(f\"A-B: {A-B}\")\n",
        "print(f\"A*B: {A*B}\")\n",
        "print(f\"A/B: {A/B}\")\n",
        "print(f\"A==B: {A==B}\")\n",
        "print(f\"2+A: {2+A}\")\n",
        "print(f\"2-A: {2-A}\")\n",
        "print(f\"2*A: {2*A}\")\n",
        "print(f\"2/A: {2/A}\")\n",
        "print(f\"A**2: {A**2}\")"
      ]
    },
    {
      "cell_type": "markdown",
      "metadata": {
        "id": "RDYXX1iHJjHG"
      },
      "source": [
        "## some basic attributes of the Tensor"
      ]
    },
    {
      "cell_type": "code",
      "execution_count": 12,
      "metadata": {
        "colab": {
          "base_uri": "https://localhost:8080/"
        },
        "id": "h7k1uZo2Ji7S",
        "outputId": "003c1f24-029c-4f50-9aa6-042d215714f2"
      },
      "outputs": [
        {
          "name": "stdout",
          "output_type": "stream",
          "text": [
            "shape of Tensor A: (4,)\n",
            "before reshaping Tensor A: (4,)\n",
            "after reshaping Tensor A: (2, 2)\n"
          ]
        }
      ],
      "source": [
        "print(f\"shape of Tensor A: {A.shape()}\")\n",
        "print(f\"before reshaping Tensor A: {A.shape()}\")\n",
        "A = A.reshape([2,2])\n",
        "print(f\"after reshaping Tensor A: {A.shape()}\")"
      ]
    },
    {
      "cell_type": "code",
      "execution_count": 13,
      "metadata": {
        "colab": {
          "base_uri": "https://localhost:8080/"
        },
        "id": "yvTklAC0Jv1a",
        "outputId": "2a82e63b-547b-4055-8a3c-c761a1e99698"
      },
      "outputs": [
        {
          "name": "stdout",
          "output_type": "stream",
          "text": [
            "shape of A (2, 1, 2)\n"
          ]
        }
      ],
      "source": [
        "A = A.unsqueeze(1)\n",
        "print(f\"shape of A {A.shape()}\")"
      ]
    },
    {
      "cell_type": "code",
      "execution_count": 14,
      "metadata": {
        "colab": {
          "base_uri": "https://localhost:8080/"
        },
        "id": "Hpv1lUTZKoZp",
        "outputId": "1f7ef112-d00c-4328-e611-bb011521d97e"
      },
      "outputs": [
        {
          "name": "stdout",
          "output_type": "stream",
          "text": [
            "shape of A (2, 2)\n"
          ]
        }
      ],
      "source": [
        "A = A.squeeze(1)\n",
        "print(f\"shape of A {A.shape()}\")"
      ]
    },
    {
      "cell_type": "code",
      "execution_count": 15,
      "metadata": {
        "colab": {
          "base_uri": "https://localhost:8080/"
        },
        "id": "gJ3jHCfOKujD",
        "outputId": "67af87a2-43e5-4789-8ca7-6be50cb8d39d"
      },
      "outputs": [
        {
          "name": "stdout",
          "output_type": "stream",
          "text": [
            "shape of Tensor C: (2, 3)\n",
            "after unsqueeze shape of Tensor C: (2, 1, 3)\n",
            "after permute the dims shape of the Tensor C: (1, 2, 3)\n"
          ]
        }
      ],
      "source": [
        "C = pt.Tensor([[1,2,3],[3,4,5]])\n",
        "print(f\"shape of Tensor C: {C.shape()}\")\n",
        "C = C.unsqueeze(1)\n",
        "print(f\"after unsqueeze shape of Tensor C: {C.shape()}\")\n",
        "C = C.permute([1,0,2])\n",
        "print(f\"after permute the dims shape of the Tensor C: {C.shape()}\")"
      ]
    },
    {
      "cell_type": "code",
      "execution_count": 16,
      "metadata": {
        "colab": {
          "base_uri": "https://localhost:8080/"
        },
        "id": "qtlR0hehK38L",
        "outputId": "e728df32-00d8-416e-8665-c0e7eba5709f"
      },
      "outputs": [
        {
          "name": "stdout",
          "output_type": "stream",
          "text": [
            "sum over dim 0: Tensor(data=[4 6 8], requires_grad=False)\n",
            "sum over dim 1: Tensor(data=[ 6 12], requires_grad=False)\n"
          ]
        }
      ],
      "source": [
        "D = pt.Tensor([[1,2,3],[3,4,5]])\n",
        "print(f\"sum over dim 0: {D.sum(0)}\")\n",
        "print(f\"sum over dim 1: {D.sum(1)}\")"
      ]
    },
    {
      "cell_type": "code",
      "execution_count": 17,
      "metadata": {
        "colab": {
          "base_uri": "https://localhost:8080/"
        },
        "id": "QICDixFrMfJK",
        "outputId": "8017cda3-941e-4e96-a920-0474b3c859fe"
      },
      "outputs": [
        {
          "name": "stdout",
          "output_type": "stream",
          "text": [
            "flatten D: Tensor(data=[1 2 3 3 4 5], requires_grad=False)\n"
          ]
        }
      ],
      "source": [
        "print(f\"flatten D: {D.flatten()}\")"
      ]
    },
    {
      "cell_type": "markdown",
      "metadata": {
        "id": "BI-Q9C_yM45L"
      },
      "source": [
        "## creating empty *Tensor*"
      ]
    },
    {
      "cell_type": "code",
      "execution_count": 18,
      "metadata": {
        "colab": {
          "base_uri": "https://localhost:8080/"
        },
        "id": "phDbBV0KM0ky",
        "outputId": "30718ff9-e664-4962-cc09-5378497e86fc"
      },
      "outputs": [
        {
          "name": "stdout",
          "output_type": "stream",
          "text": [
            "Tensor(data=[[0. 0. 0. 0. 0.]\n",
            " [0. 0. 0. 0. 0.]\n",
            " [0. 0. 0. 0. 0.]], requires_grad=False)\n"
          ]
        }
      ],
      "source": [
        "empty_tensor = pt.empty(3,5)\n",
        "print(empty_tensor)"
      ]
    },
    {
      "cell_type": "code",
      "execution_count": 19,
      "metadata": {
        "colab": {
          "base_uri": "https://localhost:8080/"
        },
        "id": "1yxaj1u7iiwg",
        "outputId": "8afbc7c3-9e37-4797-aadd-9def5fc0ebc2"
      },
      "outputs": [
        {
          "name": "stdout",
          "output_type": "stream",
          "text": [
            "Tanh(A): Tensor(data=[ 0.7615942 -0.9640276  0.         0.9993292], requires_grad=False)\n",
            "ReLU(A): Tensor(data=[1 0 0 4], requires_grad=False)\n",
            "ReLU6(A): Tensor(data=[1 0 0 4], requires_grad=False)\n",
            "Sigmoid(A): Tensor(data=[0.7310586  0.11920292 0.5        0.98201376], requires_grad=False)\n",
            "Softshrink(A): Tensor(data=[ 0.5 -1.5  0.   3.5], requires_grad=False)\n",
            "Softsign(A): Tensor(data=[ 0.5       -0.6666667  0.         0.8      ], requires_grad=False)\n",
            "LeakyReLU(A): Tensor(data=[ 1.   -0.02  0.    4.  ], requires_grad=False)\n",
            "Hardtanh(A): Tensor(data=[ 1. -1.  0.  1.], requires_grad=False)\n",
            "Hardsigmoid(A): Tensor(data=[0.6666667  0.16666666 0.5        1.        ], requires_grad=False)\n",
            "Softmax(A): Tensor(data=[0.04650469 0.00231533 0.01710812 0.9340717 ], requires_grad=False)\n",
            "LogSoftmax(A): Tensor(data=[-3.0682023  -6.068202   -4.068202   -0.06820206], requires_grad=False)\n",
            "LogSigmoid(A): Tensor(data=[-0.31326166 -2.126928   -0.6931472  -0.01814996], requires_grad=False)\n",
            "Hardswish(A): Tensor(data=[ 0.6666667  -0.33333334  0.          4.        ], requires_grad=False)\n",
            "Tanhshrink(A): Tensor(data=[ 0.23840582 -1.0359724   0.          3.000671  ], requires_grad=False)\n"
          ]
        }
      ],
      "source": [
        "A = pt.Tensor([1,-2,0,4])\n",
        "print(f\"Tanh(A): {pt.Tanh(A)}\")\n",
        "print(f\"ReLU(A): {pt.ReLU(A)}\")\n",
        "print(f\"ReLU6(A): {pt.ReLU6(A)}\")\n",
        "print(f\"Sigmoid(A): {pt.Sigmoid(A)}\")\n",
        "print(f\"Softshrink(A): {pt.Softshrink(A)}\")\n",
        "print(f\"Softsign(A): {pt.Softsign(A)}\")\n",
        "print(f\"LeakyReLU(A): {pt.LeakyReLU(A)}\")\n",
        "print(f\"Hardtanh(A): {pt.Hardtanh(A)}\")\n",
        "print(f\"Hardsigmoid(A): {pt.Hardsigmoid(A)}\")\n",
        "print(f\"Softmax(A): {pt.Softmax(A)}\")\n",
        "print(f\"LogSoftmax(A): {pt.LogSoftmax(A)}\")\n",
        "print(f\"LogSigmoid(A): {pt.LogSigmoid(A)}\")\n",
        "print(f\"Hardswish(A): {pt.Hardswish(A)}\")\n",
        "print(f\"Tanhshrink(A): {pt.Tanhshrink(A)}\")"
      ]
    },
    {
      "cell_type": "code",
      "execution_count": 20,
      "metadata": {
        "colab": {
          "base_uri": "https://localhost:8080/"
        },
        "id": "b5fUCM98i0O5",
        "outputId": "8fd4a9fb-e01d-4037-87e3-8a28a03c3937"
      },
      "outputs": [
        {
          "name": "stdout",
          "output_type": "stream",
          "text": [
            "MSE loss: Tensor(data=5.24833345413208, requires_grad=False)\n",
            "L1loss: Tensor(data=1.7166666984558105, requires_grad=False)\n",
            "Hubber Loss: Tensor(data=1.2375000715255737, requires_grad=False)\n",
            "SoftMarginLoss: Tensor(data=0.20337890088558197, requires_grad=False)\n",
            "SmoothL1Loss: Tensor(data=1.2375000715255737, requires_grad=False)\n"
          ]
        }
      ],
      "source": [
        "mse = nn.MSELoss()\n",
        "l1loss = nn.L1loss()\n",
        "hubber = nn.HuberLoss()\n",
        "sml = nn.SoftMarginLoss()\n",
        "sl1loss = nn.SmoothL1Loss()\n",
        "\n",
        "\n",
        "prediction = pt.Tensor([0.2,5,6,0.8,2,4])\n",
        "ground_truth = pt.Tensor([2,4,7,0.3,1,9])\n",
        "print(f\"MSE loss: {mse(prediction,ground_truth)}\")\n",
        "print(f\"L1loss: {l1loss(prediction,ground_truth)}\")\n",
        "print(f\"Hubber Loss: {hubber(prediction,ground_truth)}\")\n",
        "print(f\"SoftMarginLoss: {sml(prediction,ground_truth)}\")\n",
        "print(f\"SmoothL1Loss: {sl1loss(prediction,ground_truth)}\")"
      ]
    },
    {
      "cell_type": "code",
      "execution_count": null,
      "metadata": {
        "id": "WMwMdoAyQEuB"
      },
      "outputs": [],
      "source": []
    }
  ],
  "metadata": {
    "colab": {
      "authorship_tag": "ABX9TyNJ4JwxeZa3njtc0WK5+Jbp",
      "include_colab_link": true,
      "provenance": []
    },
    "kernelspec": {
      "display_name": "base",
      "language": "python",
      "name": "python3"
    },
    "language_info": {
      "codemirror_mode": {
        "name": "ipython",
        "version": 3
      },
      "file_extension": ".py",
      "mimetype": "text/x-python",
      "name": "python",
      "nbconvert_exporter": "python",
      "pygments_lexer": "ipython3",
      "version": "3.13.5"
    }
  },
  "nbformat": 4,
  "nbformat_minor": 0
}
