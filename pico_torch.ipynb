{
  "nbformat": 4,
  "nbformat_minor": 0,
  "metadata": {
    "colab": {
      "provenance": [],
      "authorship_tag": "ABX9TyNqVbp0rNflqYtZMdsSfr3T",
      "include_colab_link": true
    },
    "kernelspec": {
      "name": "python3",
      "display_name": "Python 3"
    },
    "language_info": {
      "name": "python"
    }
  },
  "cells": [
    {
      "cell_type": "markdown",
      "metadata": {
        "id": "view-in-github",
        "colab_type": "text"
      },
      "source": [
        "<a href=\"https://colab.research.google.com/github/pico-org/pico-torch/blob/main/pico_torch.ipynb\" target=\"_parent\"><img src=\"https://colab.research.google.com/assets/colab-badge.svg\" alt=\"Open In Colab\"/></a>"
      ]
    },
    {
      "cell_type": "markdown",
      "source": [
        "# pico-torch\n",
        "A educational Deep Learning Library written with jax!\n",
        "\n",
        "This Notebook contains a basic guide of the library!"
      ],
      "metadata": {
        "id": "dcDyfbpLGNDl"
      }
    },
    {
      "cell_type": "code",
      "execution_count": 1,
      "metadata": {
        "colab": {
          "base_uri": "https://localhost:8080/"
        },
        "id": "3hnDXwo-Eg2V",
        "outputId": "ed1401c2-e6a5-4167-aa9d-22734d16c4de"
      },
      "outputs": [
        {
          "output_type": "stream",
          "name": "stdout",
          "text": [
            "Cloning into 'pico-torch'...\n",
            "remote: Enumerating objects: 142, done.\u001b[K\n",
            "remote: Counting objects: 100% (142/142), done.\u001b[K\n",
            "remote: Compressing objects: 100% (103/103), done.\u001b[K\n",
            "remote: Total 142 (delta 55), reused 96 (delta 28), pack-reused 0 (from 0)\u001b[K\n",
            "Receiving objects: 100% (142/142), 1.74 MiB | 6.62 MiB/s, done.\n",
            "Resolving deltas: 100% (55/55), done.\n"
          ]
        }
      ],
      "source": [
        "# clone the repo from the github!\n",
        "!git clone https://github.com/pico-org/pico-torch"
      ]
    },
    {
      "cell_type": "code",
      "source": [
        "#setting the system path\n",
        "import sys\n",
        "sys.path.append(\"/content/pico-torch\")"
      ],
      "metadata": {
        "id": "eK_jSYyTFIqp"
      },
      "execution_count": 2,
      "outputs": []
    },
    {
      "cell_type": "markdown",
      "source": [
        "# Imports"
      ],
      "metadata": {
        "id": "jKeMluBVHNz0"
      }
    },
    {
      "cell_type": "code",
      "source": [
        "import pico_torch as pt\n",
        "import pico_torch.nn as nn"
      ],
      "metadata": {
        "id": "6H55KUb3HNY1"
      },
      "execution_count": 3,
      "outputs": []
    },
    {
      "cell_type": "markdown",
      "source": [
        "## for making Tensor"
      ],
      "metadata": {
        "id": "gwwkc_H0HZr8"
      }
    },
    {
      "cell_type": "code",
      "source": [
        "A = pt.Tensor([1,2,3,4])\n",
        "B = pt.Tensor([2,3,4,5])"
      ],
      "metadata": {
        "id": "kb9oQ0cqHZaR"
      },
      "execution_count": 4,
      "outputs": []
    },
    {
      "cell_type": "markdown",
      "source": [
        "## some basic Arithimatic operations"
      ],
      "metadata": {
        "id": "PjYLhmpWH_az"
      }
    },
    {
      "cell_type": "code",
      "source": [
        "print(f\"A+B: {A+B}\")\n",
        "print(f\"A-B: {A-B}\")\n",
        "print(f\"A*B: {A*B}\")\n",
        "print(f\"A/B: {A/B}\")\n",
        "print(f\"A==B: {A==B}\")\n",
        "print(f\"2+A: {2+A}\")\n",
        "print(f\"2-A: {2-A}\")\n",
        "print(f\"2*A: {2*A}\")\n",
        "print(f\"2/A: {2/A}\")\n",
        "print(f\"A**2: {A**2}\")"
      ],
      "metadata": {
        "colab": {
          "base_uri": "https://localhost:8080/"
        },
        "id": "CcU6AKtqF-hC",
        "outputId": "8e59bece-8fea-4f39-8720-cee96198124d"
      },
      "execution_count": 5,
      "outputs": [
        {
          "output_type": "stream",
          "name": "stdout",
          "text": [
            "A+B: Tensor(data=[3 5 7 9], requires_grad=False)\n",
            "A-B: Tensor(data=[-1 -1 -1 -1], requires_grad=False)\n",
            "A*B: Tensor(data=[ 2  6 12 20], requires_grad=False)\n",
            "A/B: Tensor(data=[0.5       0.6666667 0.75      0.8      ], requires_grad=False)\n",
            "A==B: Tensor(data=[False False False False], requires_grad=False)\n",
            "2+A: Tensor(data=[3 4 5 6], requires_grad=False)\n",
            "2-A: Tensor(data=[ 1  0 -1 -2], requires_grad=False)\n",
            "2*A: Tensor(data=[2 4 6 8], requires_grad=False)\n",
            "2/A: Tensor(data=[2.        1.        0.6666667 0.5      ], requires_grad=False)\n",
            "A**2: Tensor(data=[ 1  4  9 16], requires_grad=False)\n"
          ]
        }
      ]
    },
    {
      "cell_type": "markdown",
      "source": [
        "## some basic attributes of the Tensor"
      ],
      "metadata": {
        "id": "RDYXX1iHJjHG"
      }
    },
    {
      "cell_type": "code",
      "source": [
        "print(f\"shape of Tensor A: {A.shape()}\")\n",
        "print(f\"before reshaping Tensor A: {A.shape()}\")\n",
        "A = A.reshape([2,2])\n",
        "print(f\"after reshaping Tensor A: {A.shape()}\")"
      ],
      "metadata": {
        "colab": {
          "base_uri": "https://localhost:8080/"
        },
        "id": "h7k1uZo2Ji7S",
        "outputId": "7dc5074f-7d6a-4aae-e59e-4f7e8d81d642"
      },
      "execution_count": 6,
      "outputs": [
        {
          "output_type": "stream",
          "name": "stdout",
          "text": [
            "shape of Tensor A: (4,)\n",
            "before reshaping Tensor A: (4,)\n",
            "after reshaping Tensor A: (2, 2)\n"
          ]
        }
      ]
    },
    {
      "cell_type": "code",
      "source": [
        "A = A.unsqueeze(1)\n",
        "print(f\"shape of A {A.shape()}\")"
      ],
      "metadata": {
        "colab": {
          "base_uri": "https://localhost:8080/"
        },
        "id": "yvTklAC0Jv1a",
        "outputId": "86fccb2b-0010-4ffb-b9da-7c6b8d9f2c8f"
      },
      "execution_count": 7,
      "outputs": [
        {
          "output_type": "stream",
          "name": "stdout",
          "text": [
            "shape of A (2, 1, 2)\n"
          ]
        }
      ]
    },
    {
      "cell_type": "code",
      "source": [
        "A = A.squeeze(1)\n",
        "print(f\"shape of A {A.shape()}\")"
      ],
      "metadata": {
        "colab": {
          "base_uri": "https://localhost:8080/"
        },
        "id": "Hpv1lUTZKoZp",
        "outputId": "d9bdb475-8c61-4982-9c90-f14cda3ad53b"
      },
      "execution_count": 8,
      "outputs": [
        {
          "output_type": "stream",
          "name": "stdout",
          "text": [
            "shape of A (2, 2)\n"
          ]
        }
      ]
    },
    {
      "cell_type": "code",
      "source": [
        "C = pt.Tensor([[1,2,3],[3,4,5]])\n",
        "print(f\"shape of Tensor C: {C.shape()}\")\n",
        "C = C.unsqueeze(1)\n",
        "print(f\"after unsqueeze shape of Tensor C: {C.shape()}\")\n",
        "C = C.permute([1,0,2])\n",
        "print(f\"after permute the dims shape of the Tensor C: {C.shape()}\")"
      ],
      "metadata": {
        "colab": {
          "base_uri": "https://localhost:8080/"
        },
        "id": "gJ3jHCfOKujD",
        "outputId": "f13e899d-6a67-4a65-bcbe-ab644f720612"
      },
      "execution_count": 9,
      "outputs": [
        {
          "output_type": "stream",
          "name": "stdout",
          "text": [
            "shape of Tensor C: (2, 3)\n",
            "after unsqueeze shape of Tensor C: (2, 1, 3)\n",
            "after permute the dims shape of the Tensor C: (1, 2, 3)\n"
          ]
        }
      ]
    },
    {
      "cell_type": "code",
      "source": [
        "D = pt.Tensor([[1,2,3],[3,4,5]])\n",
        "print(f\"sum over dim 0: {D.sum(0)}\")\n",
        "print(f\"sum over dim 1: {D.sum(1)}\")"
      ],
      "metadata": {
        "colab": {
          "base_uri": "https://localhost:8080/"
        },
        "id": "qtlR0hehK38L",
        "outputId": "83183f73-a7e7-470b-a364-9aa954bb3a32"
      },
      "execution_count": 12,
      "outputs": [
        {
          "output_type": "stream",
          "name": "stdout",
          "text": [
            "sum over dim 0: Tensor(data=[4 6 8], requires_grad=False)\n",
            "sum over dim 1: Tensor(data=[ 6 12], requires_grad=False)\n"
          ]
        }
      ]
    },
    {
      "cell_type": "code",
      "source": [
        "print(f\"flatten D: {D.flatten()}\")"
      ],
      "metadata": {
        "colab": {
          "base_uri": "https://localhost:8080/"
        },
        "id": "QICDixFrMfJK",
        "outputId": "3fa61adb-e0a3-45a1-b283-2e135ac5cb42"
      },
      "execution_count": 13,
      "outputs": [
        {
          "output_type": "stream",
          "name": "stdout",
          "text": [
            "flatten D: Tensor(data=[1 2 3 3 4 5], requires_grad=False)\n"
          ]
        }
      ]
    },
    {
      "cell_type": "markdown",
      "source": [
        "## creating empty *Tensor*"
      ],
      "metadata": {
        "id": "BI-Q9C_yM45L"
      }
    },
    {
      "cell_type": "code",
      "source": [
        "empty_tensor = pt.empty(3,5)\n",
        "print(empty_tensor)"
      ],
      "metadata": {
        "colab": {
          "base_uri": "https://localhost:8080/"
        },
        "id": "phDbBV0KM0ky",
        "outputId": "a9c675c8-6795-465a-ad8d-d538bd784c1f"
      },
      "execution_count": 18,
      "outputs": [
        {
          "output_type": "stream",
          "name": "stdout",
          "text": [
            "Tensor(data=[[0. 0. 0. 0. 0.]\n",
            " [0. 0. 0. 0. 0.]\n",
            " [0. 0. 0. 0. 0.]], requires_grad=False)\n"
          ]
        }
      ]
    }
  ]
}